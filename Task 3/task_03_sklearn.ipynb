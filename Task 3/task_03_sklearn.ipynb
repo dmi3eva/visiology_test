{
 "cells": [
  {
   "cell_type": "code",
   "execution_count": 1,
   "metadata": {},
   "outputs": [
    {
     "name": "stderr",
     "output_type": "stream",
     "text": [
      "D:\\ProgramData\\Anaconda3\\lib\\site-packages\\sklearn\\cross_validation.py:41: DeprecationWarning: This module was deprecated in version 0.18 in favor of the model_selection module into which all the refactored classes and functions are moved. Also note that the interface of the new CV iterators are different from that of this module. This module will be removed in 0.20.\n",
      "  \"This module will be removed in 0.20.\", DeprecationWarning)\n",
      "D:\\ProgramData\\Anaconda3\\lib\\site-packages\\sklearn\\grid_search.py:42: DeprecationWarning: This module was deprecated in version 0.18 in favor of the model_selection module into which all the refactored classes and functions are moved. This module will be removed in 0.20.\n",
      "  DeprecationWarning)\n"
     ]
    }
   ],
   "source": [
    "import pandas as pd\n",
    "import numpy as np\n",
    "import matplotlib.pyplot as plt\n",
    "from sklearn.model_selection import KFold\n",
    "from sklearn.model_selection import cross_val_score\n",
    "from sklearn.model_selection import StratifiedKFold\n",
    "from sklearn.grid_search import GridSearchCV\n",
    "plt.style.use('ggplot')\n",
    "\n",
    "%matplotlib inline"
   ]
  },
  {
   "cell_type": "markdown",
   "metadata": {},
   "source": [
    "Reading data. Defining classes."
   ]
  },
  {
   "cell_type": "code",
   "execution_count": 2,
   "metadata": {
    "collapsed": true
   },
   "outputs": [],
   "source": [
    "data = pd.read_csv(\"data/initial_data.csv\", header=0)\n",
    "\n",
    "label_col = 'DriveTrain'\n",
    "classes = data[label_col].unique()"
   ]
  },
  {
   "cell_type": "markdown",
   "metadata": {},
   "source": [
    "## Preprocessing"
   ]
  },
  {
   "cell_type": "markdown",
   "metadata": {},
   "source": [
    "Detecting type of features"
   ]
  },
  {
   "cell_type": "code",
   "execution_count": 3,
   "metadata": {
    "collapsed": true
   },
   "outputs": [],
   "source": [
    "data_label = data[label_col]\n",
    "categorical_features = [col for col in data.columns if data[col].dtype.name == 'object']\n",
    "categorical_features.remove(label_col)\n",
    "numerical_features = [col for col in data.columns if data[col].dtype.name != 'object']"
   ]
  },
  {
   "cell_type": "markdown",
   "metadata": {},
   "source": [
    "Filling N/A"
   ]
  },
  {
   "cell_type": "code",
   "execution_count": 4,
   "metadata": {
    "collapsed": true
   },
   "outputs": [],
   "source": [
    "data_processed = data.fillna(data.median(axis=0), axis=0)\n",
    "data_describe = data.describe(include=[object])\n",
    "for col in categorical_features:\n",
    "    data_processed[col] = data_processed[col].fillna(data_describe[col]['top'])\n"
   ]
  },
  {
   "cell_type": "markdown",
   "metadata": {},
   "source": [
    "Normalization of numerical data"
   ]
  },
  {
   "cell_type": "code",
   "execution_count": 5,
   "metadata": {
    "collapsed": true
   },
   "outputs": [],
   "source": [
    "data_numerical = data_processed[numerical_features]\n",
    "data_numerical = (data_numerical - data_numerical.mean()) / data_numerical.std()\n",
    "\n",
    "for col in data_numerical:\n",
    "    data_processed[col] = data_numerical[col]"
   ]
  },
  {
   "cell_type": "markdown",
   "metadata": {},
   "source": [
    "Vectorization"
   ]
  },
  {
   "cell_type": "code",
   "execution_count": 6,
   "metadata": {
    "collapsed": true
   },
   "outputs": [],
   "source": [
    "binary_features    = [col for col in categorical_features if data_describe[col]['unique'] == 2]\n",
    "nonbinary_features = [col for col in categorical_features if data_describe[col]['unique'] > 2]\n",
    "\n",
    "\n",
    "for col in binary_features:\n",
    "    top = data_describe[col]['top']\n",
    "    top_items = data_processed[col] == top\n",
    "    data_processed.loc[top_items, col] = 0\n",
    "    data_processed.loc[np.logical_not(top_items), col] = 1    \n",
    "  \n",
    "    \n",
    "data_not_binary = pd.get_dummies(data_processed[nonbinary_features])\n",
    "\n",
    "for col in data_not_binary:\n",
    "    data_processed[col] = data_not_binary[col]\n",
    "\n",
    "data_processed = data_processed.drop(nonbinary_features, axis=1)"
   ]
  },
  {
   "cell_type": "markdown",
   "metadata": {},
   "source": [
    "Dropping labell from dataset"
   ]
  },
  {
   "cell_type": "code",
   "execution_count": 7,
   "metadata": {
    "collapsed": true
   },
   "outputs": [],
   "source": [
    "data_processed = data_processed.drop(label_col, axis=1)"
   ]
  },
  {
   "cell_type": "markdown",
   "metadata": {},
   "source": [
    "## Feature selection"
   ]
  },
  {
   "cell_type": "markdown",
   "metadata": {},
   "source": [
    "Dropping correlated features"
   ]
  },
  {
   "cell_type": "code",
   "execution_count": 8,
   "metadata": {
    "collapsed": true
   },
   "outputs": [],
   "source": [
    "features_list = ['Price', 'Luggage.room', 'RPM', 'Horsepower']\n",
    "data_uncorr = data_processed[features_list]"
   ]
  },
  {
   "cell_type": "markdown",
   "metadata": {},
   "source": [
    "Dimensionality reduction"
   ]
  },
  {
   "cell_type": "code",
   "execution_count": 9,
   "metadata": {
    "collapsed": true
   },
   "outputs": [],
   "source": [
    "from sklearn.decomposition import PCA\n",
    "data_for_pca = data_processed\n",
    "pca = PCA(n_components=2)\n",
    "pca.fit(data_for_pca)\n",
    "data_pca = pca.transform(data_for_pca)"
   ]
  },
  {
   "cell_type": "markdown",
   "metadata": {},
   "source": [
    "Size reduction:"
   ]
  },
  {
   "cell_type": "code",
   "execution_count": 10,
   "metadata": {},
   "outputs": [
    {
     "name": "stdout",
     "output_type": "stream",
     "text": [
      "Number of features decreased from 253 to 2 after PCA.\n"
     ]
    }
   ],
   "source": [
    "print(\"Number of features decreased from %d to %d after PCA.\" % (data_processed.shape[1], data_pca.shape[1]))"
   ]
  },
  {
   "cell_type": "markdown",
   "metadata": {},
   "source": [
    "Classes distribution after PCA"
   ]
  },
  {
   "cell_type": "code",
   "execution_count": 11,
   "metadata": {},
   "outputs": [
    {
     "data": {
      "image/png": "[encoded data removed]",
      "text/plain": [
       "<matplotlib.figure.Figure at 0x2c884a546d8>"
      ]
     },
     "metadata": {},
     "output_type": "display_data"
    }
   ],
   "source": [
    "plt.figure(figsize=(10, 6))\n",
    "\n",
    "plt.scatter(data_pca[data_label == 'Front', 0],\n",
    "            data_pca[data_label == 'Front', 1],\n",
    "            alpha=0.75,\n",
    "            color='red',\n",
    "            label='Front')\n",
    "\n",
    "plt.scatter(data_pca[data_label == 'Rear', 0],\n",
    "            data_pca[data_label == 'Rear', 1],\n",
    "            alpha=0.75,\n",
    "            color='blue',\n",
    "            label='Rear')\n",
    "\n",
    "plt.scatter(data_pca[data_label == '4WD', 0],\n",
    "            data_pca[data_label == '4WD', 1],\n",
    "            alpha=0.75,\n",
    "            color='green',\n",
    "            label='4WD')\n",
    "\n",
    "plt.xlabel(\"Feature 1\")\n",
    "plt.ylabel(\"Feature 2\")\n",
    "plt.legend(loc='best')\n",
    "plt.show();"
   ]
  },
  {
   "cell_type": "code",
   "execution_count": 12,
   "metadata": {
    "collapsed": true
   },
   "outputs": [],
   "source": [
    "data_processed = np.array(data_processed)\n",
    "data_uncorr = np.array(data_uncorr)"
   ]
  },
  {
   "cell_type": "markdown",
   "metadata": {},
   "source": [
    "# Building classifiers"
   ]
  },
  {
   "cell_type": "markdown",
   "metadata": {},
   "source": [
    "kNN, k-Fold"
   ]
  },
  {
   "cell_type": "code",
   "execution_count": 109,
   "metadata": {},
   "outputs": [
    {
     "name": "stderr",
     "output_type": "stream",
     "text": [
      "D:\\ProgramData\\Anaconda3\\lib\\site-packages\\sklearn\\model_selection\\_split.py:581: Warning: The least populated class in y has only 4 members, which is too few. The minimum number of groups for any class cannot be less than n_splits=5.\n",
      "  % (min_groups, self.n_splits)), Warning)\n"
     ]
    },
    {
     "name": "stdout",
     "output_type": "stream",
     "text": [
      "Values of best parameters:\n",
      "[1, 9]\n",
      "Accuracy: 0.68 (+/- 0.08)\n"
     ]
    }
   ],
   "source": [
    "from sklearn.neighbors import KNeighborsClassifier\n",
    "\n",
    "X = data_pca\n",
    "y = data_label\n",
    "\n",
    "n_neighbors_array = [1, 2, 3, 4, 5, 6, 7, 8, 9, 10, 15]\n",
    "best_n_neighbors_vals = []\n",
    "\n",
    "kf = KFold(n_splits=2)\n",
    "for train_index, test_index in kf.split(X):    \n",
    "    X_train, X_test = X[train_index], X[test_index]\n",
    "    y_train, y_test = y[train_index], y[test_index]\n",
    "    knn_clf = KNeighborsClassifier()\n",
    "    grid = GridSearchCV(knn_clf, param_grid={'n_neighbors': n_neighbors_array})\n",
    "    grid.fit(X_train, y_train)\n",
    "    best_n_neighbors = grid.best_estimator_.n_neighbors\n",
    "    best_n_neighbors_vals.append(best_n_neighbors)\n",
    "    scores = cross_val_score(grid, X_test, y_test, cv=5)\n",
    "print(\"Values of best parameters:\")\n",
    "print(best_n_neighbors_vals)\n",
    "print(\"Accuracy: %0.2f (+/- %0.2f)\" % (scores.mean(), scores.std() * 2))\n"
   ]
  },
  {
   "cell_type": "markdown",
   "metadata": {},
   "source": [
    "kNN, stratified k-Fold"
   ]
  },
  {
   "cell_type": "code",
   "execution_count": 147,
   "metadata": {},
   "outputs": [
    {
     "name": "stdout",
     "output_type": "stream",
     "text": [
      "Values of best parameters:\n",
      "[5, 1]\n",
      "Accuracy: 0.72 (+/- 0.05)\n"
     ]
    }
   ],
   "source": [
    "from sklearn.neighbors import KNeighborsClassifier\n",
    "\n",
    "# X = data_pca\n",
    "X = data_processed\n",
    "# X = data_uncorr\n",
    "y = data_label\n",
    "\n",
    "\n",
    "n_neighbors_array = [1, 2, 3, 4, 5, 6, 7, 8, 9, 10, 11, 12, 13, 14, 15]\n",
    "best_n_neighbors_vals = []\n",
    "\n",
    "skf = StratifiedKFold(n_splits=2)\n",
    "for train_index, test_index in skf.split(X, y):    \n",
    "    X_train, X_test = X[train_index], X[test_index]\n",
    "    y_train, y_test = y[train_index], y[test_index]\n",
    "    knn_clf = KNeighborsClassifier()\n",
    "    grid = GridSearchCV(knn_clf, param_grid={'n_neighbors': n_neighbors_array})\n",
    "    grid.fit(X_train, y_train)\n",
    "    best_n_neighbors = grid.best_estimator_.n_neighbors\n",
    "    best_n_neighbors_vals.append(best_n_neighbors)\n",
    "    scores = cross_val_score(knn_clf, X_test, y_test, cv=5)\n",
    "print(\"Values of best parameters:\")\n",
    "print(best_n_neighbors_vals)\n",
    "print(\"Accuracy: %0.2f (+/- %0.2f)\" % (scores.mean(), scores.std() * 2))"
   ]
  },
  {
   "cell_type": "markdown",
   "metadata": {},
   "source": [
    "Decision tree, stratified k-Fold"
   ]
  },
  {
   "cell_type": "code",
   "execution_count": 145,
   "metadata": {},
   "outputs": [
    {
     "name": "stdout",
     "output_type": "stream",
     "text": [
      "Accuracy: 0.80 (+/- 0.19)\n"
     ]
    }
   ],
   "source": [
    "from sklearn import tree \n",
    "\n",
    "#X = data_pca\n",
    "X = data_processed\n",
    "#X = data_uncorr\n",
    "y = data_label\n",
    "\n",
    "skf = StratifiedKFold(n_splits=2)\n",
    "for train_index, test_index in skf.split(X, y):    \n",
    "    X_train, X_test = X[train_index], X[test_index]\n",
    "    y_train, y_test = y[train_index], y[test_index]\n",
    "    tree_clf = tree.DecisionTreeClassifier(max_depth=5, random_state=17)    \n",
    "    tree_clf.fit(X_train, y_train)    \n",
    "    scores = cross_val_score(tree_clf, X_test, y_test, cv=5)\n",
    "\n",
    "print(\"Accuracy: %0.2f (+/- %0.2f)\" % (scores.mean(), scores.std() * 2))"
   ]
  },
  {
   "cell_type": "markdown",
   "metadata": {},
   "source": [
    "Random forest, stratified k-Fold"
   ]
  },
  {
   "cell_type": "code",
   "execution_count": 151,
   "metadata": {},
   "outputs": [
    {
     "name": "stdout",
     "output_type": "stream",
     "text": [
      "Accuracy: 0.76 (+/- 0.07)\n"
     ]
    }
   ],
   "source": [
    "from sklearn import ensemble\n",
    "\n",
    "#X = data_pca\n",
    "X = data_processed\n",
    "#X = data_uncorr\n",
    "y = data_label\n",
    "\n",
    "rf_clf = ensemble.RandomForestClassifier(n_estimators=100, random_state=11)\n",
    "\n",
    "\n",
    "skf = StratifiedKFold(n_splits=2)\n",
    "for train_index, test_index in skf.split(X, y):    \n",
    "    X_train, X_test = X[train_index], X[test_index]\n",
    "    y_train, y_test = y[train_index], y[test_index]\n",
    "    rf_clf = ensemble.RandomForestClassifier(n_estimators=100, random_state=11)    \n",
    "    rf_clf.fit(X_train, y_train)    \n",
    "    scores = cross_val_score(rf_clf, X_test, y_test, cv=5)\n",
    "\n",
    "print(\"Accuracy: %0.2f (+/- %0.2f)\" % (scores.mean(), scores.std() * 2))"
   ]
  },
  {
   "cell_type": "markdown",
   "metadata": {},
   "source": [
    "Random forest, stratified k-Fold, important features"
   ]
  },
  {
   "cell_type": "code",
   "execution_count": 234,
   "metadata": {},
   "outputs": [
    {
     "name": "stdout",
     "output_type": "stream",
     "text": [
      "(256,)\n",
      "(256,)\n",
      "(256,)\n",
      "Feature importances:\n",
      " 1. feature 'Fuel.tank.capacity' (0.0890)\n",
      " 2. feature 'Weight' (0.0831)\n",
      " 3. feature 'Rev.per.mile' (0.0544)\n",
      " 4. feature 'MPG.highway' (0.0464)\n",
      " 5. feature 'MPG.city' (0.0427)\n",
      " 6. feature 'Passengers' (0.0409)\n",
      " 7. feature 'Max.Price' (0.0373)\n",
      " 8. feature 'Turn.circle' (0.0337)\n",
      " 9. feature 'RPM  ' (0.0336)\n",
      "10. feature 'Type_Van' (0.0335)\n",
      "11. feature 'Horsepower' (0.0325)\n",
      "12. feature 'Wheelbase' (0.0297)\n",
      "13. feature 'Length' (0.0267)\n",
      "14. feature 'Min.Price' (0.0266)\n",
      "15. feature 'Rear.seat.room' (0.0253)\n",
      "16. feature 'Price' (0.0235)\n",
      "17. feature 'Luggage.room' (0.0206)\n",
      "18. feature 'AirBags_Driver only' (0.0196)\n",
      "19. feature 'Width' (0.0184)\n",
      "20. feature 'Type_Sporty' (0.0162)\n",
      "21. feature 'Make_BMW 535i' (0.0150)\n",
      "22. feature 'Cylinders_8' (0.0149)\n",
      "23. feature 'EngineSize' (0.0146)\n",
      "24. feature 'Make_Ford Mustang' (0.0126)\n",
      "25. feature 'AirBags_Driver & Passenger' (0.0113)\n",
      "26. feature 'Man.trans.avail_Yes' (0.0099)\n",
      "27. feature 'Manufacturer_BMW' (0.0091)\n",
      "28. feature 'Model_Stealth' (0.0091)\n",
      "29. feature 'Cylinders_6' (0.0087)\n",
      "30. feature 'Model_Mustang' (0.0075)\n",
      "31. feature 'Model_535i' (0.0074)\n",
      "32. feature 'Make_Dodge Stealth' (0.0071)\n",
      "33. feature 'Manufacturer_Chevrolet' (0.0069)\n",
      "34. feature 'Cylinders_4' (0.0066)\n",
      "35. feature 'Origin_non-USA' (0.0065)\n",
      "36. feature 'Manufacturer_Ford' (0.0059)\n",
      "37. feature 'Manufacturer_Mazda' (0.0059)\n",
      "38. feature 'Model_Camaro' (0.0058)\n",
      "39. feature 'AirBags_None' (0.0056)\n",
      "40. feature 'Make_Chevrolet Camaro' (0.0051)\n",
      "41. feature 'Make_Ford Aerostar' (0.0050)\n",
      "42. feature 'Model_Caravan' (0.0046)\n",
      "43. feature 'Man.trans.avail_No' (0.0044)\n",
      "44. feature 'Make_Chevrolet Lumina_APV' (0.0044)\n",
      "45. feature 'Make_Infiniti Q45' (0.0039)\n",
      "46. feature 'Model_Q45' (0.0037)\n",
      "47. feature 'Origin_USA' (0.0036)\n",
      "48. feature 'Make_Mazda MPV' (0.0035)\n",
      "49. feature 'Make_Buick Roadmaster' (0.0033)\n",
      "50. feature 'Model_Astro' (0.0032)\n",
      "51. feature 'Model_Aerostar' (0.0030)\n",
      "52. feature 'Make_Chevrolet Caprice' (0.0029)\n",
      "53. feature 'Manufacturer_Dodge' (0.0029)\n",
      "54. feature 'Model_Crown_Victoria' (0.0026)\n",
      "55. feature 'Manufacturer_Infiniti' (0.0025)\n",
      "56. feature 'Make_Chevrolet Astro' (0.0024)\n",
      "57. feature 'Model_Lumina_APV' (0.0024)\n",
      "58. feature 'Type_Compact' (0.0023)\n",
      "59. feature 'Type_Large' (0.0020)\n",
      "60. feature 'Model_Caprice' (0.0019)\n",
      "61. feature 'Make_Chevrolet Corvette' (0.0019)\n",
      "62. feature 'Model_Seville' (0.0018)\n",
      "63. feature 'Manufacturer_Cadillac' (0.0015)\n",
      "64. feature 'Model_DeVille' (0.0014)\n",
      "65. feature 'AirBags_Cadillac DeVille' (0.0014)\n",
      "66. feature 'Manufacturer_Buick' (0.0014)\n",
      "67. feature 'Make_Ford Crown_Victoria' (0.0013)\n",
      "68. feature 'Type_Midsize' (0.0012)\n",
      "69. feature 'Model_Imperial' (0.0012)\n",
      "70. feature 'Make_Buick LeSabre' (0.0011)\n",
      "71. feature 'Model_Probe' (0.0010)\n",
      "72. feature 'Make_Dodge Caravan' (0.0009)\n",
      "73. feature 'Model_MPV' (0.0009)\n",
      "74. feature 'Make_Ford Probe' (0.0008)\n",
      "75. feature 'Model_Corsica' (0.0008)\n",
      "76. feature 'Model_Vision' (0.0008)\n",
      "77. feature 'Make_Honda Prelude' (0.0008)\n",
      "78. feature 'Make_Acura Legend' (0.0007)\n",
      "79. feature 'Make_Dodge Spirit' (0.0007)\n",
      "80. feature 'Make_Cadillac DeVille' (0.0006)\n",
      "81. feature 'Make_Honda Accord' (0.0006)\n",
      "82. feature 'Model_Accord' (0.0006)\n",
      "83. feature 'Manufacturer_Eagle' (0.0005)\n",
      "84. feature 'Model_Storm' (0.0005)\n",
      "85. feature 'Manufacturer_Honda' (0.0004)\n",
      "86. feature 'Manufacturer_Audi' (0.0003)\n",
      "87. feature 'Make_Eagle Vision' (0.0003)\n",
      "88. feature 'Model_90' (0.0003)\n",
      "89. feature 'Make_Hyundai Excel' (0.0002)\n",
      "90. feature 'Make_Buick Riviera' (0.0002)\n",
      "91. feature 'Make_Chevrolet Cavalier' (0.0001)\n",
      "92. feature 'Model_Metro' (0.0001)\n",
      "93. feature 'Type_Small' (0.0001)\n",
      "94. feature 'Model_Concorde' (0.0001)\n",
      "95. feature 'Model_Summit' (0.0001)\n",
      "96. feature 'Model_Escort' (0.0001)\n",
      "97. feature 'Make_Ford Tempo' (0.0001)\n",
      "98. feature 'Model_100' (0.0001)\n",
      "99. feature 'Model_Cavalier' (0.0000)\n",
      "100. feature 'Manufacturer_Hyundai' (0.0000)\n",
      "101. feature 'Make_Chevrolet Corsica' (0.0000)\n",
      "102. feature 'Model_Integra' (0.0000)\n",
      "103. feature 'Model_Festiva' (0.0000)\n",
      "104. feature 'Make_Ford Taurus' (0.0000)\n",
      "105. feature 'Manufacturer_Mercedes-Benz' (0.0000)\n",
      "106. feature 'Model_Cougar' (0.0000)\n",
      "107. feature 'Model_Corvette' (0.0000)\n",
      "108. feature 'Model_Cutlass_Ciera' (0.0000)\n",
      "109. feature 'Manufacturer_Mercury' (0.0000)\n",
      "110. feature 'Manufacturer_Lincoln' (0.0000)\n",
      "111. feature 'Model_Corrado' (0.0000)\n",
      "112. feature 'Manufacturer_Lexus' (0.0000)\n",
      "113. feature 'Model_Diamante' (0.0000)\n",
      "114. feature 'Model_Grand_Prix' (0.0000)\n",
      "115. feature 'Model_Dynasty' (0.0000)\n",
      "116. feature 'Model_ES300' (0.0000)\n",
      "117. feature 'Model_Eighty-Eight' (0.0000)\n",
      "118. feature 'Model_Continental' (0.0000)\n",
      "119. feature 'Model_Elantra' (0.0000)\n",
      "120. feature 'Manufacturer_Acura' (0.0000)\n",
      "121. feature 'Manufacturer_Chrysler' (0.0000)\n",
      "122. feature 'Manufacturer_Chrylser' (0.0000)\n",
      "123. feature 'Model_Eurovan' (0.0000)\n",
      "124. feature 'Model_Excel' (0.0000)\n",
      "125. feature 'Model_Firebird' (0.0000)\n",
      "126. feature 'Model_Fox' (0.0000)\n",
      "127. feature 'Manufacturer_Geo' (0.0000)\n",
      "128. feature 'Model_Achieva' (0.0000)\n",
      "129. feature 'Manufacturer_Mitsubishi' (0.0000)\n",
      "130. feature 'Model_Colt' (0.0000)\n",
      "131. feature 'Model_900' (0.0000)\n",
      "132. feature 'Model_Justy' (0.0000)\n",
      "133. feature 'Model_850' (0.0000)\n",
      "134. feature 'Model_626' (0.0000)\n",
      "135. feature 'Model_323' (0.0000)\n",
      "136. feature 'Model_300E' (0.0000)\n",
      "137. feature 'Model_Bonneville' (0.0000)\n",
      "138. feature 'Model_240' (0.0000)\n",
      "139. feature 'Model_190E' (0.0000)\n",
      "140. feature 'Manufacturer_Volvo' (0.0000)\n",
      "141. feature 'Manufacturer_Volkswagen' (0.0000)\n",
      "142. feature 'Manufacturer_Toyota' (0.0000)\n",
      "143. feature 'Manufacturer_Suzuki' (0.0000)\n",
      "144. feature 'Manufacturer_Subaru' (0.0000)\n",
      "145. feature 'Manufacturer_Saturn' (0.0000)\n",
      "146. feature 'Manufacturer_Saab' (0.0000)\n",
      "147. feature 'Model_Camry' (0.0000)\n",
      "148. feature 'Model_Capri' (0.0000)\n",
      "149. feature 'Manufacturer_Pontiac' (0.0000)\n",
      "150. feature 'Manufacturer_Plymouth' (0.0000)\n",
      "151. feature 'Model_Celica' (0.0000)\n",
      "152. feature 'Manufacturer_Oldsmobile' (0.0000)\n",
      "153. feature 'Manufacturer_Nissan' (0.0000)\n",
      "154. feature 'Model_Altima' (0.0000)\n",
      "155. feature 'Model_Civic' (0.0000)\n",
      "156. feature 'Model_Century' (0.0000)\n",
      "157. feature 'Make_Volvo 850' (0.0000)\n",
      "158. feature 'Model_Laser' (0.0000)\n",
      "159. feature 'Make_Oldsmobile Achieva' (0.0000)\n",
      "160. feature 'Make_Nissan Quest' (0.0000)\n",
      "161. feature 'Make_Nissan Maxima' (0.0000)\n",
      "162. feature 'Make_Nissan Altima' (0.0000)\n",
      "163. feature 'Make_Mitsubishi Mirage' (0.0000)\n",
      "164. feature 'Make_Mitsubishi Diamante' (0.0000)\n",
      "165. feature 'Make_Mercury Cougar' (0.0000)\n",
      "166. feature 'Make_Mercury Capri' (0.0000)\n",
      "167. feature 'Make_Mercedes-Benz 300E' (0.0000)\n",
      "168. feature 'Make_Mercedes-Benz 190E' (0.0000)\n",
      "169. feature 'Make_Mazda RX-7' (0.0000)\n",
      "170. feature 'Make_Mazda Protege' (0.0000)\n",
      "171. feature 'Make_Mazda 626' (0.0000)\n",
      "172. feature 'Make_Mazda 323' (0.0000)\n",
      "173. feature 'Make_Lincoln Town_Car' (0.0000)\n",
      "174. feature 'Make_Lincoln Continental' (0.0000)\n",
      "175. feature 'Make_Lexus SC300' (0.0000)\n",
      "176. feature 'Make_Lexus ES300' (0.0000)\n",
      "177. feature 'Make_Hyundai Sonata' (0.0000)\n",
      "178. feature 'Make_Hyundai Scoupe' (0.0000)\n",
      "179. feature 'Make_Hyundai Elantra' (0.0000)\n",
      "180. feature 'Make_Honda Civic' (0.0000)\n",
      "181. feature 'Make_Nissan Sentra' (0.0000)\n",
      "182. feature 'Make_Oldsmobile Cutlass_Ciera' (0.0000)\n",
      "183. feature 'Make_Geo Metro' (0.0000)\n",
      "184. feature 'Make_Oldsmobile Eighty-Eight' (0.0000)\n",
      "185. feature 'Make_Volkswagen Passat' (0.0000)\n",
      "186. feature 'Make_Volkswagen Fox' (0.0000)\n",
      "187. feature 'Make_Volkswagen Eurovan' (0.0000)\n",
      "188. feature 'Make_Volkswagen Corrado' (0.0000)\n",
      "189. feature 'Make_Toyota Tercel' (0.0000)\n",
      "190. feature 'Make_Toyota Previa' (0.0000)\n",
      "191. feature 'Make_Toyota Celica' (0.0000)\n",
      "192. feature 'Make_Toyota Camry' (0.0000)\n",
      "193. feature 'Make_Suzuki Swift' (0.0000)\n",
      "194. feature 'Make_Subaru Loyale' (0.0000)\n",
      "195. feature 'Make_Subaru Legacy' (0.0000)\n",
      "196. feature 'Make_Subaru Justy' (0.0000)\n",
      "197. feature 'Make_Saturn SL' (0.0000)\n",
      "198. feature 'Make_Saab 900' (0.0000)\n",
      "199. feature 'Make_Pontiac Sunbird' (0.0000)\n",
      "200. feature 'Make_Pontiac LeMans' (0.0000)\n",
      "201. feature 'Make_Pontiac Grand_Prix' (0.0000)\n",
      "202. feature 'Make_Pontiac Firebird' (0.0000)\n",
      "203. feature 'Make_Pontiac Bonneville' (0.0000)\n",
      "204. feature 'Make_Plymouth Laser' (0.0000)\n",
      "205. feature 'Make_Oldsmobile Silhouette' (0.0000)\n",
      "206. feature 'Make_Geo Storm' (0.0000)\n",
      "207. feature 'Make_Ford Festiva' (0.0000)\n",
      "208. feature 'Model_LeBaron' (0.0000)\n",
      "209. feature 'Model_Sonata' (0.0000)\n",
      "210. feature 'Model_Shadow' (0.0000)\n",
      "211. feature 'Make_Volvo 240' (0.0000)\n",
      "212. feature 'Model_Scoupe' (0.0000)\n",
      "213. feature 'Model_SL' (0.0000)\n",
      "214. feature 'Model_SC300' (0.0000)\n",
      "215. feature 'Model_Roadmaster' (0.0000)\n",
      "216. feature 'Model_Riviera' (0.0000)\n",
      "217. feature 'Model_RX-7' (0.0000)\n",
      "218. feature 'Model_Quest' (0.0000)\n",
      "219. feature 'Model_Protege' (0.0000)\n",
      "220. feature 'Model_Previa' (0.0000)\n",
      "221. feature 'Model_Prelude' (0.0000)\n",
      "222. feature 'Model_Passat' (0.0000)\n",
      "223. feature 'Model_Mirage' (0.0000)\n",
      "224. feature 'Model_Maxima' (0.0000)\n",
      "225. feature 'Model_Lumina' (0.0000)\n",
      "226. feature 'Model_Loyale' (0.0000)\n",
      "227. feature 'Model_Legend' (0.0000)\n",
      "228. feature 'Model_Legacy' (0.0000)\n",
      "229. feature 'Model_LeSabre' (0.0000)\n",
      "230. feature 'Model_LeMans' (0.0000)\n",
      "231. feature 'Model_Silhouette' (0.0000)\n",
      "232. feature 'Model_Spirit' (0.0000)\n",
      "233. feature 'Make_Ford Escort' (0.0000)\n",
      "234. feature 'Model_Sunbird' (0.0000)\n",
      "235. feature 'Make_Eagle Summit' (0.0000)\n",
      "236. feature 'Make_Dodge Shadow' (0.0000)\n",
      "237. feature 'Make_Dodge Dynasty' (0.0000)\n",
      "238. feature 'Make_Dodge Colt' (0.0000)\n",
      "239. feature 'Make_Chrysler LeBaron' (0.0000)\n",
      "240. feature 'Make_Chrysler Imperial' (0.0000)\n",
      "241. feature 'Make_Chrylser Concorde' (0.0000)\n",
      "242. feature 'Make_Chevrolet Lumina' (0.0000)\n",
      "243. feature 'Make_Cadillac Seville' (0.0000)\n",
      "244. feature 'Make_Buick Century' (0.0000)\n",
      "245. feature 'Make_Audi 90' (0.0000)\n",
      "246. feature 'Make_Audi 100' (0.0000)\n",
      "247. feature 'Make_Acura Integra' (0.0000)\n",
      "248. feature 'Cylinders_rotary' (0.0000)\n",
      "249. feature 'Cylinders_5' (0.0000)\n",
      "250. feature 'Cylinders_3' (0.0000)\n",
      "251. feature 'Model_Town_Car' (0.0000)\n",
      "252. feature 'Model_Tercel' (0.0000)\n",
      "253. feature 'Model_Tempo' (0.0000)\n",
      "254. feature 'Model_Taurus' (0.0000)\n",
      "255. feature 'Model_Swift' (0.0000)\n",
      "256. feature 'Model_Sentra' (0.0000)\n"
     ]
    }
   ],
   "source": [
    "from sklearn import ensemble\n",
    "\n",
    "X = np.array(data_processed)\n",
    "y = data_label\n",
    "\n",
    "rf_clf = ensemble.RandomForestClassifier(n_estimators=100, random_state=11)\n",
    "\n",
    "skf = StratifiedKFold(n_splits=2)\n",
    "for train_index, test_index in skf.split(X, y):    \n",
    "    X_train, X_test = X[train_index], X[test_index]\n",
    "    y_train, y_test = y[train_index], y[test_index]\n",
    "    rf_clf = ensemble.RandomForestClassifier(n_estimators=100, random_state=11)    \n",
    "    rf_clf.fit(X_train, y_train)    \n",
    "    scores = cross_val_score(rf_clf, X_test, y_test, cv=5)\n",
    "    \n",
    "feature_names = data_processed.columns\n",
    "    \n",
    "importances = rf_clf.feature_importances_\n",
    "indices = np.argsort(importances)[::-1]\n",
    "\n",
    "\n",
    "print(\"Feature importances:\")\n",
    "for f, idx in enumerate(indices):\n",
    "    print(\"{:2d}. feature '{:5s}' ({:.4f})\".format(f + 1, feature_names[idx], importances[idx]))"
   ]
  },
  {
   "cell_type": "markdown",
   "metadata": {},
   "source": [
    "Random forest, stratified k-Fold, feature selection"
   ]
  },
  {
   "cell_type": "code",
   "execution_count": 236,
   "metadata": {},
   "outputs": [
    {
     "name": "stdout",
     "output_type": "stream",
     "text": [
      "Accuracy: 0.74 (+/- 0.07)\n"
     ]
    }
   ],
   "source": [
    "from sklearn import ensemble\n",
    "\n",
    "X = np.array(data_processed)\n",
    "y = data_label\n",
    "\n",
    "rf_clf = ensemble.RandomForestClassifier(n_estimators=100, random_state=11)\n",
    "\n",
    "skf = StratifiedKFold(n_splits=2)\n",
    "for train_index, test_index in skf.split(X, y):    \n",
    "    X_train, X_test = X[train_index], X[test_index]\n",
    "    y_train, y_test = y[train_index], y[test_index]\n",
    "    rf_clf = ensemble.RandomForestClassifier(n_estimators=100, random_state=11)    \n",
    "    rf_clf.fit(X_train, y_train)    \n",
    "    scores = cross_val_score(rf_clf, X_test, y_test, cv=5)\n",
    "    \n",
    "print(\"Accuracy: %0.2f (+/- %0.2f)\" % (scores.mean(), scores.std() * 2))"
   ]
  },
  {
   "cell_type": "markdown",
   "metadata": {},
   "source": [
    "Random forest, stratified k-Fold, without unsignificant features"
   ]
  },
  {
   "cell_type": "code",
   "execution_count": 256,
   "metadata": {},
   "outputs": [
    {
     "name": "stdout",
     "output_type": "stream",
     "text": [
      "256\n",
      "20\n",
      "Accuracy: 0.71 (+/- 0.22)\n"
     ]
    }
   ],
   "source": [
    "from sklearn import ensemble\n",
    "d_first = 20\n",
    "drop_features = feature_names[indices[d_first:]]\n",
    "#data_processed = data_processed.drop(drop_features, axis=1)\n",
    "X = np.array(data_processed)\n",
    "y = data_label\n",
    "\n",
    "rf_clf = ensemble.RandomForestClassifier(n_estimators=100, random_state=11)\n",
    "\n",
    "skf = StratifiedKFold(n_splits=2)\n",
    "for train_index, test_index in skf.split(X, y):    \n",
    "    X_train, X_test = X[train_index], X[test_index]\n",
    "    y_train, y_test = y[train_index], y[test_index]\n",
    "    rf_clf = ensemble.RandomForestClassifier(n_estimators=100, random_state=11)    \n",
    "    rf_clf.fit(X_train, y_train)    \n",
    "    scores = cross_val_score(rf_clf, X_test, y_test, cv=5)\n",
    "    \n",
    "print(\"Accuracy: %0.2f (+/- %0.2f)\" % (scores.mean(), scores.std() * 2))"
   ]
  },
  {
   "cell_type": "code",
   "execution_count": 235,
   "metadata": {},
   "outputs": [
    {
     "data": {
      "image/png": "[encoded data removed]",
      "text/plain": [
       "<matplotlib.figure.Figure at 0x1cf00a33780>"
      ]
     },
     "metadata": {},
     "output_type": "display_data"
    }
   ],
   "source": [
    "d_first = 20\n",
    "plt.figure(figsize=(8, 8))\n",
    "plt.title(\"Feature importances\")\n",
    "plt.bar(range(d_first), importances[indices[:d_first]], align='center')\n",
    "plt.xticks(range(d_first), np.array(feature_names)[indices[:d_first]], rotation=90)\n",
    "plt.xlim([-1, d_first]);"
   ]
  },
  {
   "cell_type": "markdown",
   "metadata": {},
   "source": [
    "GBT, stratified k-Fold"
   ]
  },
  {
   "cell_type": "code",
   "execution_count": 138,
   "metadata": {},
   "outputs": [
    {
     "name": "stdout",
     "output_type": "stream",
     "text": [
      "Accuracy: 0.80 (+/- 0.19)\n"
     ]
    }
   ],
   "source": [
    "from sklearn import ensemble\n",
    "\n",
    "#X = data_pca\n",
    "X = data_processed\n",
    "#X = data_uncorr\n",
    "y = data_label\n",
    "\n",
    "\n",
    "skf = StratifiedKFold(n_splits=2)\n",
    "for train_index, test_index in skf.split(X, y):    \n",
    "    X_train, X_test = X[train_index], X[test_index]\n",
    "    y_train, y_test = y[train_index], y[test_index]\n",
    "    gbt_clf = ensemble.GradientBoostingClassifier(n_estimators=100, random_state=11)\n",
    "    gbt_clf.fit(X_train, y_train)\n",
    "    scores = cross_val_score(gbt_clf, X_test, y_test, cv=5)\n",
    "\n",
    "print(\"Accuracy: %0.2f (+/- %0.2f)\" % (scores.mean(), scores.std() * 2))"
   ]
  },
  {
   "cell_type": "markdown",
   "metadata": {},
   "source": [
    "Creating confussion matrix"
   ]
  },
  {
   "cell_type": "code",
   "execution_count": 152,
   "metadata": {},
   "outputs": [
    {
     "name": "stdout",
     "output_type": "stream",
     "text": [
      "GBT\n",
      "[[ 1  3  0]\n",
      " [ 4 30  8]\n",
      " [ 0  0  0]]\n",
      "Decision tree\n",
      "[[ 1  2  0]\n",
      " [ 4 31  7]\n",
      " [ 0  0  1]]\n",
      "kNN tree\n",
      "[[ 1  2  0]\n",
      " [ 3 30  5]\n",
      " [ 1  1  3]]\n",
      "Random forest\n",
      "[[ 0  2  0]\n",
      " [ 5 31  7]\n",
      " [ 0  0  1]]\n"
     ]
    }
   ],
   "source": [
    "from sklearn.metrics import confusion_matrix\n",
    "print(\"GBT\")\n",
    "print(confusion_matrix(gbt_clf.predict(X_test), y_test))\n",
    "print(\"Decision tree\")\n",
    "print(confusion_matrix(tree_clf.predict(X_test), y_test))\n",
    "print(\"kNN tree\")\n",
    "print(confusion_matrix(grid.predict(X_test), y_test))\n",
    "print(\"Random forest\")\n",
    "print(confusion_matrix(rf_clf.predict(X_test), y_test))"
   ]
  },
  {
   "cell_type": "markdown",
   "metadata": {},
   "source": [
    "SVM, stratified k-Fold"
   ]
  },
  {
   "cell_type": "code",
   "execution_count": 134,
   "metadata": {},
   "outputs": [
    {
     "name": "stdout",
     "output_type": "stream",
     "text": [
      "Accuracy: 0.72 (+/- 0.05)\n"
     ]
    }
   ],
   "source": [
    "from sklearn.svm import SVC\n",
    "\n",
    "X = data_pca\n",
    "#X = data_processed\n",
    "#X = data_uncorr\n",
    "y = data_label\n",
    "\n",
    "skf = StratifiedKFold(n_splits=2)\n",
    "for train_index, test_index in skf.split(X, y):    \n",
    "    X_train, X_test = X[train_index], X[test_index]\n",
    "    y_train, y_test = y[train_index], y[test_index]\n",
    "    svm_clf = SVC()\n",
    "    svm_clf.fit(X_train, y_train)\n",
    "    scores = cross_val_score(svm_clf, X_test, y_test, cv=5)\n",
    "\n",
    "print(\"Accuracy: %0.2f (+/- %0.2f)\" % (scores.mean(), scores.std() * 2))"
   ]
  },
  {
   "cell_type": "markdown",
   "metadata": {},
   "source": [
    "ELM"
   ]
  },
  {
   "cell_type": "code",
   "execution_count": null,
   "metadata": {
    "collapsed": true
   },
   "outputs": [],
   "source": [
    "from sklearn_extensions.extreme_learning_machines.elm import GenELMClassifier\n",
    "from sklearn_extensions.extreme_learning_machines.random_layer import RBFRandomLayer, MLPRandomLayer\n",
    "\n",
    "X = data_pca\n",
    "#X = data_processed\n",
    "#X = data_uncorr\n",
    "y = data_label\n",
    "\n",
    "def make_classifiers():\n",
    "    names = [\"ELM(10,tanh)\", \"ELM(10,tanh,LR)\", \"ELM(10,sinsq)\", \"ELM(10,tribas)\", \"ELM(hardlim)\", \"ELM(20,rbf(0.1))\"]\n",
    "    nh = 10\n",
    "\n",
    "    sinsq = (lambda x: np.power(np.sin(x), 2.0))\n",
    "    srhl_sinsq = MLPRandomLayer(n_hidden=nh, activation_func=sinsq)\n",
    "\n",
    "    srhl_tanh = MLPRandomLayer(n_hidden=nh, activation_func='tanh')\n",
    "    srhl_tribas = MLPRandomLayer(n_hidden=nh, activation_func='tribas')\n",
    "    srhl_hardlim = MLPRandomLayer(n_hidden=nh, activation_func='hardlim')\n",
    "\n",
    "    srhl_rbf = RBFRandomLayer(n_hidden=nh*2, rbf_width=0.1, random_state=0)\n",
    "    log_reg = LogisticRegression()\n",
    "\n",
    "    classifiers = [GenELMClassifier(hidden_layer=srhl_tanh),\n",
    "                   GenELMClassifier(hidden_layer=srhl_tanh, regressor=log_reg),\n",
    "                   GenELMClassifier(hidden_layer=srhl_sinsq),\n",
    "                   GenELMClassifier(hidden_layer=srhl_tribas),\n",
    "                   GenELMClassifier(hidden_layer=srhl_hardlim),\n",
    "                   GenELMClassifier(hidden_layer=srhl_rbf)]\n",
    "\n",
    "    return names, classifiers\n",
    "\n",
    "\n",
    "\n",
    "skf = StratifiedKFold(n_splits=2)\n",
    "for train_index, test_index in skf.split(X, y):    \n",
    "    X_train, X_test = X[train_index], X[test_index]\n",
    "    y_train, y_test = y[train_index], y[test_index]\n",
    "    for name, clf in zip(names, classifiers):\n",
    "        clf.fit(X_train, y_train)\n",
    "        score = clf.score(X_test, y_test)\n",
    "        print('Model %s score: %s' % (name, score))\n"
   ]
  },
  {
   "cell_type": "markdown",
   "metadata": {},
   "source": [
    "## Data augmentation"
   ]
  },
  {
   "cell_type": "markdown",
   "metadata": {},
   "source": [
    "Naive random over-sampling"
   ]
  },
  {
   "cell_type": "code",
   "execution_count": 13,
   "metadata": {},
   "outputs": [],
   "source": [
    "#X = data_pca\n",
    "X = data_processed\n",
    "#X = data_uncorr\n",
    "y = data_label\n",
    "\n",
    "from imblearn.over_sampling import RandomOverSampler\n",
    "ros = RandomOverSampler(random_state=0)\n",
    "X_resampled, y_resampled = ros.fit_sample(X, y)"
   ]
  },
  {
   "cell_type": "code",
   "execution_count": 17,
   "metadata": {},
   "outputs": [
    {
     "name": "stdout",
     "output_type": "stream",
     "text": [
      "Before resampling:\n",
      "[('4WD', 10), ('Front', 67), ('Rear', 16)]\n",
      "[('4WD', 67), ('Front', 67), ('Rear', 67)]\n"
     ]
    }
   ],
   "source": [
    "print('Before resampling:')\n",
    "print(sorted(Counter(y).items()))\n",
    "\n",
    "from collections import Counter\n",
    "print(sorted(Counter(y_resampled).items()))"
   ]
  },
  {
   "cell_type": "code",
   "execution_count": 20,
   "metadata": {},
   "outputs": [
    {
     "name": "stdout",
     "output_type": "stream",
     "text": [
      "Accuracy: 0.90 (+/- 0.16)\n"
     ]
    }
   ],
   "source": [
    "from sklearn import ensemble\n",
    "skf = StratifiedKFold(n_splits=2)\n",
    "for train_index, test_index in skf.split(X_resampled, y_resampled):    \n",
    "    X_train, X_test = X_resampled[train_index], X_resampled[test_index]\n",
    "    y_train, y_test = y_resampled[train_index], y_resampled[test_index]\n",
    "    gbt_clf = ensemble.GradientBoostingClassifier(n_estimators=100, random_state=11)\n",
    "    gbt_clf.fit(X_train, y_train)\n",
    "    scores = cross_val_score(gbt_clf, X_test, y_test, cv=5)\n",
    "\n",
    "print(\"Accuracy: %0.2f (+/- %0.2f)\" % (scores.mean(), scores.std() * 2))"
   ]
  },
  {
   "cell_type": "markdown",
   "metadata": {},
   "source": [
    "SMOTE and ADASYNE"
   ]
  },
  {
   "cell_type": "code",
   "execution_count": 18,
   "metadata": {
    "collapsed": true
   },
   "outputs": [],
   "source": [
    "from imblearn.over_sampling import SMOTE, ADASYN\n",
    "X_smote, y_smote = SMOTE().fit_sample(X, y)\n",
    "X_adasyne, y_adasyne = ADASYN().fit_sample(X, y)"
   ]
  },
  {
   "cell_type": "code",
   "execution_count": 22,
   "metadata": {},
   "outputs": [
    {
     "name": "stdout",
     "output_type": "stream",
     "text": [
      "After SMOTE\n",
      "[('4WD', 67), ('Front', 67), ('Rear', 67)]\n",
      "After ADASYNE\n",
      "[('4WD', 67), ('Front', 67), ('Rear', 71)]\n"
     ]
    }
   ],
   "source": [
    "print('After SMOTE')\n",
    "print(sorted(Counter(y_smote).items()))\n",
    "print('After ADASYNE')\n",
    "print(sorted(Counter(y_adasyne).items()))"
   ]
  },
  {
   "cell_type": "code",
   "execution_count": 24,
   "metadata": {},
   "outputs": [
    {
     "name": "stdout",
     "output_type": "stream",
     "text": [
      "Accuracy after SMOTE: 0.90 (+/- 0.06)\n"
     ]
    }
   ],
   "source": [
    "from sklearn import ensemble\n",
    "skf = StratifiedKFold(n_splits=2)\n",
    "for train_index, test_index in skf.split(X_smote, y_smote):    \n",
    "    X_train, X_test = X_smote[train_index], X_smote[test_index]\n",
    "    y_train, y_test = y_smote[train_index], y_smote[test_index]\n",
    "    gbt_clf = ensemble.GradientBoostingClassifier(n_estimators=100, random_state=11)\n",
    "    gbt_clf.fit(X_train, y_train)\n",
    "    scores = cross_val_score(gbt_clf, X_test, y_test, cv=5)\n",
    "\n",
    "print(\"Accuracy after SMOTE: %0.2f (+/- %0.2f)\" % (scores.mean(), scores.std() * 2))"
   ]
  },
  {
   "cell_type": "code",
   "execution_count": 26,
   "metadata": {},
   "outputs": [
    {
     "name": "stdout",
     "output_type": "stream",
     "text": [
      "GBT\n",
      "[[33  3  0]\n",
      " [ 0 27  0]\n",
      " [ 0  3 35]]\n"
     ]
    }
   ],
   "source": [
    "from sklearn.metrics import confusion_matrix\n",
    "print(\"GBT\")\n",
    "print(confusion_matrix(gbt_clf.predict(X_test), y_test))"
   ]
  },
  {
   "cell_type": "code",
   "execution_count": 25,
   "metadata": {},
   "outputs": [
    {
     "name": "stdout",
     "output_type": "stream",
     "text": [
      "Accuracy after SMOTE: 0.81 (+/- 0.19)\n"
     ]
    }
   ],
   "source": [
    "from sklearn import ensemble\n",
    "skf = StratifiedKFold(n_splits=2)\n",
    "for train_index, test_index in skf.split(X_adasyne, y_adasyne):    \n",
    "    X_train, X_test = X_adasyne[train_index], X_adasyne[test_index]\n",
    "    y_train, y_test = y_adasyne[train_index], y_adasyne[test_index]\n",
    "    gbt_clf = ensemble.GradientBoostingClassifier(n_estimators=100, random_state=11)\n",
    "    gbt_clf.fit(X_train, y_train)\n",
    "    scores = cross_val_score(gbt_clf, X_test, y_test, cv=5)\n",
    "\n",
    "print(\"Accuracy after SMOTE: %0.2f (+/- %0.2f)\" % (scores.mean(), scores.std() * 2))"
   ]
  },
  {
   "cell_type": "code",
   "execution_count": null,
   "metadata": {
    "collapsed": true
   },
   "outputs": [],
   "source": []
  }
 ],
 "metadata": {
  "kernelspec": {
   "display_name": "Python 3",
   "language": "python",
   "name": "python3"
  },
  "language_info": {
   "codemirror_mode": {
    "name": "ipython",
    "version": 3
   },
   "file_extension": ".py",
   "mimetype": "text/x-python",
   "name": "python",
   "nbconvert_exporter": "python",
   "pygments_lexer": "ipython3",
   "version": "3.6.3"
  }
 },
 "nbformat": 4,
 "nbformat_minor": 2
}
