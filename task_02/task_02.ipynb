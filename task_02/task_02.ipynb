{
 "cells": [
  {
   "cell_type": "markdown",
   "metadata": {},
   "source": [
    "# Task 2"
   ]
  },
  {
   "cell_type": "markdown",
   "metadata": {},
   "source": [
    "We need to estimate, how many states need to be specified, consider the following decomposition:\n",
    "![](\"files/BBN.jpg\")"
   ]
  },
  {
   "cell_type": "markdown",
   "metadata": {},
   "source": [
    "To calculate the number of values to specify we will need the following <b>formulas</b>:\n",
    "<ol>\n",
    "<li>Conditional probability: $P(x_1, x_2, ..., x_n) = P(x_1|x_2, ..., x_n) \\cdot P(x_2, ..., x_n)$\n",
    "<li>Joint probability for independent events:$P(x, y) = P(x) \\cdot P(y)$\n",
    "</ol>\n",
    "<b>Assumptions:</b>\n",
    "<br>All state's probability have binary outcome. "
   ]
  },
  {
   "cell_type": "markdown",
   "metadata": {},
   "source": [
    "<b>Step 1:</b>\n",
    "At first we need to calculate probability of states with incoming degree equal to 1:\n",
    "<ol>\n",
    "<li> Spool Process OK\n",
    "<li> Local Disk Space Adequate\n",
    "<li> Network Up\n",
    "<li> Correct Printer Path\n",
    "<li> Net Cable Connected\n",
    "<li> Application Output OK\n",
    "<li> Print Spooling On\n",
    "<li> Oncorrupted Driver\n",
    "<li> Connect Driver Settings\n",
    "<li> Correct Local Port\n",
    "<li> Local Caple Connected\n",
    "<li> Paper Loaded\n",
    "<li> Printer Memory Adequate\n",
    "<li> Printer On and Online\n",
    "<li> Net/Local Printing\n",
    "<li> Correct Driver\n",
    "<li> Correct Printer Selected\n",
    "</ol>\n",
    "<i>Totally</i>, 17 values\n",
    "<img src=\"files/step1_leafs.jpg\" size=\"100\">"
   ]
  },
  {
   "cell_type": "markdown",
   "metadata": {},
   "source": [
    "<b>Step 2.</b>\n",
    "Let's calculate required values of conditional probabilities for vertex for which all incoming probabilities had been already calculated:\n",
    "<ol>\n",
    "<li> $P(Spooled Data Ok | Local Disk Adequate, Spool Process Ok, Application Output) - 2^3 values$ \n",
    "(each parameter can be in two state).\n",
    "<li> $P(Net Path Ok| Network Up, Correct Printer Path, Net Cable Connection) - 2^3 values$ \n",
    "<li> $P(Local Path OK | Corect Local Port, Correct Connection) - 2^2 values$\n",
    "</ol>\n",
    "<i>Totally</i>, $2 \\cdot 2^3 + 2 ^2 = 20$ values\n",
    "<img src=\"files/step2.jpg\" size=\"100\">\n"
   ]
  },
  {
   "cell_type": "markdown",
   "metadata": {},
   "source": [
    "<b>Step 3.</b>\n",
    "<ol>\n",
    "<li> GDT Data OK - $2^3$ values \n",
    "</ol>\n",
    "<i>Totally</i>, 8 values\n",
    "<img src=\"files/step3.jpg\" size=\"100\">"
   ]
  },
  {
   "cell_type": "markdown",
   "metadata": {},
   "source": [
    "<b>Step 4-7.</b>\n",
    "Further we will calculate sequentially:\n",
    "<ol>\n",
    "<li> GDT Data Output - $2^4$ values \n",
    "<li> Print DAta OK - $2^2$ values \n",
    "<li> PC to Print Transport OK - $2^4$ values \n",
    "<li> Printer Data OK - $2^4$ values \n",
    "</ol>\n",
    "<i>Totally</i>, 16 + 4 + 16 + 16 = 52 values\n",
    "<img src=\"files/step4.jpg\" size=\"100\">"
   ]
  },
  {
   "cell_type": "markdown",
   "metadata": {},
   "source": [
    "<b>Step 8.</b>\n",
    "<br> $P(Print Output OK | ...) = P(Print Output OK | Printer Data OK) \\cdot P(Printer Data OK)$\n",
    "<br> So, $Values\\_number(Print Output OK | ...) = Values\\_number(Print Output OK | Printer Data OK) + Values\\_number(Printer Data OK) = Values\\_number(Print Output OK | Printer Data OK) + 2 = ... = 17 + 20 + 8 + 52 + 2 = 99$."
   ]
  },
  {
   "cell_type": "markdown",
   "metadata": {},
   "source": [
    "<b>Answer:</b> 99 values need to be calculated."
   ]
  }
 ],
 "metadata": {
  "kernelspec": {
   "display_name": "Python 3",
   "language": "python",
   "name": "python3"
  },
  "language_info": {
   "codemirror_mode": {
    "name": "ipython",
    "version": 3
   },
   "file_extension": ".py",
   "mimetype": "text/x-python",
   "name": "python",
   "nbconvert_exporter": "python",
   "pygments_lexer": "ipython3",
   "version": "3.6.3"
  }
 },
 "nbformat": 4,
 "nbformat_minor": 2
}
