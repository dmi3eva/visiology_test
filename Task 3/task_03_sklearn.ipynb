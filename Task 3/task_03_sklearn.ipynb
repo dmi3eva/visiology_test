{
 "cells": [
  {
   "cell_type": "code",
   "execution_count": 130,
   "metadata": {},
   "outputs": [],
   "source": [
    "import pandas as pd\n",
    "import numpy as np\n",
    "import matplotlib.pyplot as plt\n",
    "from sklearn.model_selection import KFold\n",
    "from sklearn.model_selection import cross_val_score\n",
    "from sklearn.model_selection import StratifiedKFold\n",
    "from sklearn.grid_search import GridSearchCV\n",
    "plt.style.use('ggplot')\n",
    "\n",
    "%matplotlib inline"
   ]
  },
  {
   "cell_type": "code",
   "execution_count": 159,
   "metadata": {
    "collapsed": true
   },
   "outputs": [],
   "source": [
    "\"\"\"\n",
    "Rading data\n",
    "\"\"\"\n",
    "data = pd.read_csv(\"data/initial_data.csv\", header=0)\n",
    "label_col = \"DriveTrain\"\n",
    "classes = data[label_col].unique()\n",
    "categorical_features = [col for col in data.columns if data[col].dtype.name == 'object']\n",
    "numerical_features = [col for col in data.columns if data[col].dtype.name != 'object']"
   ]
  },
  {
   "cell_type": "markdown",
   "metadata": {},
   "source": [
    "# Preprocessing"
   ]
  },
  {
   "cell_type": "code",
   "execution_count": 160,
   "metadata": {},
   "outputs": [],
   "source": [
    "\"\"\"\n",
    "Filling N/A\n",
    "\"\"\"\n",
    "data_processed = data.fillna(data.median(axis=0), axis=0)\n",
    "data_describe = data.describe(include=[object])\n",
    "for col in categorical_features:\n",
    "    data_processed[col] = data_processed[col].fillna(data_describe[c]['top'])"
   ]
  },
  {
   "cell_type": "code",
   "execution_count": 161,
   "metadata": {},
   "outputs": [],
   "source": [
    "\"\"\"\n",
    "Normalization of numerical data\n",
    "\"\"\"\n",
    "data_numerical = data_processed[numerical_features]\n",
    "data_numerical = (data_numerical - data_numerical.mean()) / data_numerical.std()\n",
    "\n",
    "for col in data_numerical:\n",
    "    data_processed[col] = data_numerical[col]\n"
   ]
  },
  {
   "cell_type": "code",
   "execution_count": 162,
   "metadata": {},
   "outputs": [],
   "source": [
    "\"\"\"\n",
    "Vectorization\n",
    "\"\"\"\n",
    "binary_features    = [col for col in categorical_features if data_describe[c]['unique'] == 2]\n",
    "nonbinary_features = [col for col in categorical_features if data_describe[c]['unique'] > 2]\n",
    "\n",
    "for col in binary_features[1:]:\n",
    "    top = data_describe[col]['top']\n",
    "    top_items = data_processed[col] == top\n",
    "    data_processed.loc[top_items, col] = 0\n",
    "    data_processed.loc[np.logical_not(top_items), col] = 1\n",
    "    \n",
    "    \n",
    "data_not_binary = pd.get_dummies(data_processed[nonbinary_features])\n",
    "\n",
    "for col in data_not_binary:\n",
    "    data_processed[col] = data_not_binary[col]\n",
    "\n",
    "data_processed = data_processed.drop(nonbinary_features, axis=1)\n"
   ]
  },
  {
   "cell_type": "code",
   "execution_count": 116,
   "metadata": {},
   "outputs": [],
   "source": [
    "\"\"\"\n",
    "Dimensionality reduction\n",
    "\"\"\"\n",
    "from sklearn.decomposition import PCA\n",
    "pca = PCA(n_components=2)\n",
    "pca.fit(data_processed)\n",
    "data_pca = pca.transform(data_processed)"
   ]
  },
  {
   "cell_type": "code",
   "execution_count": 129,
   "metadata": {},
   "outputs": [
    {
     "name": "stderr",
     "output_type": "stream",
     "text": [
      "D:\\ProgramData\\Anaconda3\\lib\\site-packages\\sklearn\\model_selection\\_split.py:581: Warning: The least populated class in y has only 4 members, which is too few. The minimum number of groups for any class cannot be less than n_splits=5.\n",
      "  % (min_groups, self.n_splits)), Warning)\n"
     ]
    },
    {
     "name": "stdout",
     "output_type": "stream",
     "text": [
      "Values of best parameters:\n",
      "[3, 9]\n",
      "Accuracy: 0.68 (+/- 0.08)\n"
     ]
    }
   ],
   "source": [
    "\"\"\"\n",
    "kNN, k-Fold\n",
    "\"\"\"\n",
    "from sklearn.neighbors import KNeighborsClassifier\n",
    "\n",
    "X = data_pca\n",
    "y = data[label_col]\n",
    "\n",
    "n_neighbors_array = [1, 2, 3, 4, 5, 6, 7, 8, 9, 10, 15]\n",
    "best_n_neighbors_vals = []\n",
    "\n",
    "kf = KFold(n_splits=2)\n",
    "for train_index, test_index in kf.split(X):    \n",
    "    X_train, X_test = X[train_index], X[test_index]\n",
    "    y_train, y_test = y[train_index], y[test_index]\n",
    "    knn_clf = KNeighborsClassifier()\n",
    "    grid = GridSearchCV(knn_clf, param_grid={'n_neighbors': n_neighbors_array})\n",
    "    grid.fit(X_train, y_train)\n",
    "    best_n_neighbors = grid.best_estimator_.n_neighbors\n",
    "    best_n_neighbors_vals.append(best_n_neighbors)\n",
    "    scores = cross_val_score(grid, X_test, y_test, cv=5)\n",
    "print(\"Values of best parameters:\")\n",
    "print(best_n_neighbors_vals)\n",
    "print(\"Accuracy: %0.2f (+/- %0.2f)\" % (scores.mean(), scores.std() * 2))\n"
   ]
  },
  {
   "cell_type": "code",
   "execution_count": 145,
   "metadata": {},
   "outputs": [
    {
     "name": "stdout",
     "output_type": "stream",
     "text": [
      "Values of best parameters:\n",
      "[5, 11]\n",
      "Accuracy: 0.74 (+/- 0.07)\n"
     ]
    }
   ],
   "source": [
    "\"\"\"\n",
    "kNN, stratified k-Fold\n",
    "\"\"\"\n",
    "\n",
    "from sklearn.neighbors import KNeighborsClassifier\n",
    "\n",
    "X = data_pca\n",
    "y = data[label_col]\n",
    "\n",
    "n_neighbors_array = [1, 2, 3, 4, 5, 6, 7, 8, 9, 10, 11, 12, 13, 14, 15]\n",
    "best_n_neighbors_vals = []\n",
    "\n",
    "skf = StratifiedKFold(n_splits=2)\n",
    "for train_index, test_index in skf.split(X, y):    \n",
    "    X_train, X_test = X[train_index], X[test_index]\n",
    "    y_train, y_test = y[train_index], y[test_index]\n",
    "    knn_clf = KNeighborsClassifier()\n",
    "    grid = GridSearchCV(knn_clf, param_grid={'n_neighbors': n_neighbors_array})\n",
    "    grid.fit(X_train, y_train)\n",
    "    best_n_neighbors = grid.best_estimator_.n_neighbors\n",
    "    best_n_neighbors_vals.append(best_n_neighbors)\n",
    "    scores = cross_val_score(knn_clf, X_test, y_test, cv=5)\n",
    "print(\"Values of best parameters:\")\n",
    "print(best_n_neighbors_vals)\n",
    "print(\"Accuracy: %0.2f (+/- %0.2f)\" % (scores.mean(), scores.std() * 2))"
   ]
  },
  {
   "cell_type": "code",
   "execution_count": 150,
   "metadata": {},
   "outputs": [
    {
     "name": "stdout",
     "output_type": "stream",
     "text": [
      "Accuracy: 0.72 (+/- 0.17)\n"
     ]
    }
   ],
   "source": [
    "\"\"\"\n",
    "Decision tree, stratified k-Fold\n",
    "\"\"\"\n",
    "\n",
    "from sklearn import tree \n",
    "\n",
    "X = data_pca\n",
    "y = data[label_col]\n",
    "\n",
    "\n",
    "skf = StratifiedKFold(n_splits=2)\n",
    "for train_index, test_index in skf.split(X, y):    \n",
    "    X_train, X_test = X[train_index], X[test_index]\n",
    "    y_train, y_test = y[train_index], y[test_index]\n",
    "    tree_clf = tree.DecisionTreeClassifier(max_depth=5, random_state=17)    \n",
    "    tree_clf.fit(X_train, y_train)    \n",
    "    scores = cross_val_score(tree_clf, X_test, y_test, cv=5)\n",
    "\n",
    "print(\"Accuracy: %0.2f (+/- %0.2f)\" % (scores.mean(), scores.std() * 2))"
   ]
  },
  {
   "cell_type": "code",
   "execution_count": 141,
   "metadata": {},
   "outputs": [
    {
     "name": "stdout",
     "output_type": "stream",
     "text": [
      "Accuracy: 0.73 (+/- 0.17)\n"
     ]
    }
   ],
   "source": [
    "\"\"\"\n",
    "Random forest, stratified k-Fold\n",
    "\"\"\"\n",
    "\n",
    "from sklearn import ensemble\n",
    "\n",
    "X = data_pca\n",
    "y = data[label_col]\n",
    "\n",
    "\n",
    "\n",
    "rf_clf = ensemble.RandomForestClassifier(n_estimators=100, random_state=11)\n",
    "\n",
    "\n",
    "skf = StratifiedKFold(n_splits=2)\n",
    "for train_index, test_index in skf.split(X, y):    \n",
    "    X_train, X_test = X[train_index], X[test_index]\n",
    "    y_train, y_test = y[train_index], y[test_index]\n",
    "    rf_clf = ensemble.RandomForestClassifier(n_estimators=100, random_state=11)    \n",
    "    rf_clf.fit(X_train, y_train)    \n",
    "    scores = cross_val_score(rf_clf, X_test, y_test, cv=5)\n",
    "\n",
    "print(\"Accuracy: %0.2f (+/- %0.2f)\" % (scores.mean(), scores.std() * 2))"
   ]
  },
  {
   "cell_type": "code",
   "execution_count": 164,
   "metadata": {},
   "outputs": [
    {
     "name": "stdout",
     "output_type": "stream",
     "text": [
      "[ 0.51948112  0.48051888]\n",
      "Feature importances:\n",
      " 1. feature 'Manufacturer' (0.5195)\n",
      " 2. feature 'Model' (0.4805)\n"
     ]
    }
   ],
   "source": [
    "\"\"\"\n",
    "Random forest, stratified k-Fold, feature selection\n",
    "\"\"\"\n",
    "\n",
    "from sklearn import ensemble\n",
    "\n",
    "X = data_pca\n",
    "y = data[label_col]\n",
    "\n",
    "rf_clf = ensemble.RandomForestClassifier(n_estimators=100, random_state=11)\n",
    "\n",
    "\n",
    "skf = StratifiedKFold(n_splits=2)\n",
    "for train_index, test_index in skf.split(X, y):    \n",
    "    X_train, X_test = X[train_index], X[test_index]\n",
    "    y_train, y_test = y[train_index], y[test_index]\n",
    "    rf_clf = ensemble.RandomForestClassifier(n_estimators=100, random_state=11)    \n",
    "    rf_clf.fit(X_train, y_train)    \n",
    "    scores = cross_val_score(rf_clf, X_test, y_test, cv=5)\n",
    "    \n",
    "feature_names = data.columns\n",
    "    \n",
    "importances = rf_clf.feature_importances_\n",
    "print(importances)\n",
    "indices = np.argsort(importances)[::-1]\n",
    "\n",
    "print(\"Feature importances:\")\n",
    "for f, idx in enumerate(indices):\n",
    "    print(\"{:2d}. feature '{:5s}' ({:.4f})\".format(f + 1, feature_names[idx], importances[idx]))"
   ]
  },
  {
   "cell_type": "code",
   "execution_count": 165,
   "metadata": {},
   "outputs": [
    {
     "name": "stdout",
     "output_type": "stream",
     "text": [
      "Accuracy: 0.74 (+/- 0.22)\n"
     ]
    }
   ],
   "source": [
    "\"\"\"\n",
    "GBT, stratified k-Fold\n",
    "\"\"\"\n",
    "from sklearn import ensemble\n",
    "\n",
    "X = data_pca\n",
    "y = data[label_col]\n",
    "\n",
    "\n",
    "skf = StratifiedKFold(n_splits=2)\n",
    "for train_index, test_index in skf.split(X, y):    \n",
    "    X_train, X_test = X[train_index], X[test_index]\n",
    "    y_train, y_test = y[train_index], y[test_index]\n",
    "    gbt_clf = ensemble.GradientBoostingClassifier(n_estimators=100, random_state=11)\n",
    "    gbt_clf.fit(X_train, y_train)\n",
    "    scores = cross_val_score(gbt_clf, X_test, y_test, cv=5)\n",
    "\n",
    "print(\"Accuracy: %0.2f (+/- %0.2f)\" % (scores.mean(), scores.std() * 2))"
   ]
  }
 ],
 "metadata": {
  "kernelspec": {
   "display_name": "Python 3",
   "language": "python",
   "name": "python3"
  },
  "language_info": {
   "codemirror_mode": {
    "name": "ipython",
    "version": 3
   },
   "file_extension": ".py",
   "mimetype": "text/x-python",
   "name": "python",
   "nbconvert_exporter": "python",
   "pygments_lexer": "ipython3",
   "version": "3.6.3"
  }
 },
 "nbformat": 4,
 "nbformat_minor": 2
}
